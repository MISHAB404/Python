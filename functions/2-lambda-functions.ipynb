{
 "cells": [
  {
   "cell_type": "code",
   "execution_count": null,
   "metadata": {},
   "outputs": [
    {
     "name": "stdout",
     "output_type": "stream",
     "text": [
      "1.Square\n",
      "2.Rectangle\n",
      "3.Triangle\n",
      "4.Exit\n",
      "\n",
      "Enter your choice : 2\n",
      "Enter length: 1\n",
      "Enter breadth: 4\n",
      "\n",
      "Area of Rectangle : \n",
      " 4\n",
      "1.Square\n",
      "2.Rectangle\n",
      "3.Triangle\n",
      "4.Exit\n"
     ]
    }
   ],
   "source": [
    "sqr=lambda a:a*a\n",
    "rect=lambda l,b:l*b\n",
    "tri=lambda b,h: (b*h)/2\n",
    "while(1):\n",
    "    print(\"1.Square\\n2.Rectangle\\n3.Triangle\\n4.Exit\")\n",
    "    ch=int(input(\"\\nEnter your choice : \"))\n",
    "    if (ch==1):\n",
    "        a=int(input(\"Enter side : \"))\n",
    "        print(\"\\nArea of square : \",sqr(a))\n",
    "    elif (ch==2):\n",
    "        l = int(input(\"Enter length: \"))\n",
    "        b = int(input(\"Enter breadth: \"))\n",
    "        print(\"\\nArea of Rectangle : \",rect(l,b))\n",
    "    elif (ch==3):\n",
    "        b = int(input(\"Enter breadth: \"))\n",
    "        h = int(input(\"Enter height: \"))\n",
    "        print(\"\\nArea of Triangle : \",tri(b,h))\n",
    "    else:\n",
    "        print(\"\\nExiting...\")\n",
    "        print(\"Terminated\\n\")\n",
    "        break"
   ]
  },
  {
   "cell_type": "code",
   "execution_count": null,
   "metadata": {
    "collapsed": true
   },
   "outputs": [],
   "source": []
  },
  {
   "cell_type": "code",
   "execution_count": null,
   "metadata": {
    "collapsed": true
   },
   "outputs": [],
   "source": []
  }
 ],
 "metadata": {
  "kernelspec": {
   "display_name": "Python 3",
   "language": "python",
   "name": "python3"
  },
  "language_info": {
   "codemirror_mode": {
    "name": "ipython",
    "version": 3
   },
   "file_extension": ".py",
   "mimetype": "text/x-python",
   "name": "python",
   "nbconvert_exporter": "python",
   "pygments_lexer": "ipython3",
   "version": "3.6.3"
  }
 },
 "nbformat": 4,
 "nbformat_minor": 2
}
