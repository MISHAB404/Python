{
 "cells": [
  {
   "cell_type": "code",
   "execution_count": 9,
   "metadata": {},
   "outputs": [
    {
     "name": "stdout",
     "output_type": "stream",
     "text": [
      "Enter a string:mishab\n",
      "Frequency\n",
      "m = 1\n",
      "i = 1\n",
      "s = 1\n",
      "h = 1\n",
      "a = 1\n",
      "b = 1\n",
      "\n",
      "Total Number =  6\n"
     ]
    }
   ],
   "source": [
    "#frequency of characters in a given string\n",
    "s=input(\"Enter a string:\")\n",
    "f={}\n",
    "print(\"Frequency\")\n",
    "for i in s:\n",
    "    if i in f:\n",
    "        f[i]=f[i]+1\n",
    "    else:\n",
    "        f[i]=1\n",
    "for keys,value in f.items():\n",
    "    print(keys,\"=\",value)\n",
    "print(\"\\nTotal Number = \",len(s))"
   ]
  },
  {
   "cell_type": "code",
   "execution_count": null,
   "metadata": {
    "collapsed": true
   },
   "outputs": [],
   "source": []
  }
 ],
 "metadata": {
  "kernelspec": {
   "display_name": "Python 3",
   "language": "python",
   "name": "python3"
  },
  "language_info": {
   "codemirror_mode": {
    "name": "ipython",
    "version": 3
   },
   "file_extension": ".py",
   "mimetype": "text/x-python",
   "name": "python",
   "nbconvert_exporter": "python",
   "pygments_lexer": "ipython3",
   "version": "3.6.3"
  }
 },
 "nbformat": 4,
 "nbformat_minor": 2
}
