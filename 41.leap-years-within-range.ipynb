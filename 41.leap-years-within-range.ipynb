{
 "cells": [
  {
   "cell_type": "code",
   "execution_count": 1,
   "metadata": {},
   "outputs": [
    {
     "name": "stdout",
     "output_type": "stream",
     "text": [
      "Enter the year to be started with:2001\n",
      "Enter the year to be ended with:2023\n",
      "Leap year from 2001 to 2023 is:\n",
      "2004\n",
      "2008\n",
      "2012\n",
      "2016\n",
      "2020\n"
     ]
    }
   ],
   "source": [
    "#List leap years within a range\n",
    "y=int(input(\"Enter the year to be started with:\"))\n",
    "n=int(input(\"Enter the year to be ended with:\"))\n",
    "print(\"Leap year from\",y,\"to\",n,\"is:\")\n",
    "for n in range(y,n):\n",
    "      if n%4==0 and (n%100!=0 or n%400==0):\n",
    "        print(n)"
   ]
  },
  {
   "cell_type": "code",
   "execution_count": null,
   "metadata": {
    "collapsed": true
   },
   "outputs": [],
   "source": []
  }
 ],
 "metadata": {
  "kernelspec": {
   "display_name": "Python 3",
   "language": "python",
   "name": "python3"
  },
  "language_info": {
   "codemirror_mode": {
    "name": "ipython",
    "version": 3
   },
   "file_extension": ".py",
   "mimetype": "text/x-python",
   "name": "python",
   "nbconvert_exporter": "python",
   "pygments_lexer": "ipython3",
   "version": "3.6.3"
  }
 },
 "nbformat": 4,
 "nbformat_minor": 2
}
