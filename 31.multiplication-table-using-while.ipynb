{
 "cells": [
  {
   "cell_type": "code",
   "execution_count": 5,
   "metadata": {},
   "outputs": [
    {
     "name": "stdout",
     "output_type": "stream",
     "text": [
      "Enter the number: 5\n",
      "How much you want : 20\n",
      "\n",
      "Multiplcation table of :  5\n",
      "1*5=5\n",
      "2*5=10\n",
      "3*5=15\n",
      "4*5=20\n",
      "5*5=25\n",
      "6*5=30\n",
      "7*5=35\n",
      "8*5=40\n",
      "9*5=45\n",
      "10*5=50\n",
      "11*5=55\n",
      "12*5=60\n",
      "13*5=65\n",
      "14*5=70\n",
      "15*5=75\n",
      "16*5=80\n",
      "17*5=85\n",
      "18*5=90\n",
      "19*5=95\n",
      "20*5=100\n"
     ]
    }
   ],
   "source": [
    "n=int(input('Enter the number: '))\n",
    "h=int(input('How much you want : '))\n",
    "i=1\n",
    "print('\\nMultiplcation table of : ',n)\n",
    "while(i<=h):\n",
    "    p=i*n\n",
    "    print('%d*%d=%d' %(i,n,p))\n",
    "    i=i+1"
   ]
  },
  {
   "cell_type": "code",
   "execution_count": null,
   "metadata": {
    "collapsed": true
   },
   "outputs": [],
   "source": []
  }
 ],
 "metadata": {
  "kernelspec": {
   "display_name": "Python 3",
   "language": "python",
   "name": "python3"
  },
  "language_info": {
   "codemirror_mode": {
    "name": "ipython",
    "version": 3
   },
   "file_extension": ".py",
   "mimetype": "text/x-python",
   "name": "python",
   "nbconvert_exporter": "python",
   "pygments_lexer": "ipython3",
   "version": "3.6.3"
  }
 },
 "nbformat": 4,
 "nbformat_minor": 2
}
