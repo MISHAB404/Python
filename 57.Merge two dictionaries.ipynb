{
 "cells": [
  {
   "cell_type": "code",
   "execution_count": 2,
   "metadata": {},
   "outputs": [
    {
     "name": "stdout",
     "output_type": "stream",
     "text": [
      "{1: 'Portugal', 2: 'India', 3: 'Brazil'}\n",
      "{4: 'Italy', 5: 'France'}\n",
      "Merging two dictionaries: {4: 'Italy', 5: 'France', 1: 'Portugal', 2: 'India', 3: 'Brazil'}\n"
     ]
    }
   ],
   "source": [
    "#Merge two dictionaries\n",
    "d1={1:'Portugal',2:'India',3:'Brazil'}\n",
    "d2={4:'Italy',5:'France'}\n",
    "print(d1)\n",
    "print(d2)\n",
    "d3=d2\n",
    "d3.update(d1)\n",
    "print(\"Merging two dictionaries:\",d3)"
   ]
  },
  {
   "cell_type": "code",
   "execution_count": null,
   "metadata": {
    "collapsed": true
   },
   "outputs": [],
   "source": []
  }
 ],
 "metadata": {
  "kernelspec": {
   "display_name": "Python 3",
   "language": "python",
   "name": "python3"
  },
  "language_info": {
   "codemirror_mode": {
    "name": "ipython",
    "version": 3
   },
   "file_extension": ".py",
   "mimetype": "text/x-python",
   "name": "python",
   "nbconvert_exporter": "python",
   "pygments_lexer": "ipython3",
   "version": "3.6.3"
  }
 },
 "nbformat": 4,
 "nbformat_minor": 2
}
