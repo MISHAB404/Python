{
 "cells": [
  {
   "cell_type": "code",
   "execution_count": 1,
   "metadata": {},
   "outputs": [
    {
     "name": "stdout",
     "output_type": "stream",
     "text": [
      "Enter first number: 23\n",
      "Enter second number: 22\n",
      "GCD is 1\n"
     ]
    }
   ],
   "source": [
    "n1=int(input('Enter first number: '))\n",
    "n2=int(input('Enter second number: '))\n",
    "j=min(n1,n2)\n",
    "while(j>0):\n",
    "    if(n2%j==0 and n1%j==0):\n",
    "        print('GCD is',j)\n",
    "        break\n",
    "    j=j-1"
   ]
  },
  {
   "cell_type": "code",
   "execution_count": null,
   "metadata": {
    "collapsed": true
   },
   "outputs": [],
   "source": []
  }
 ],
 "metadata": {
  "kernelspec": {
   "display_name": "Python 3",
   "language": "python",
   "name": "python3"
  },
  "language_info": {
   "codemirror_mode": {
    "name": "ipython",
    "version": 3
   },
   "file_extension": ".py",
   "mimetype": "text/x-python",
   "name": "python",
   "nbconvert_exporter": "python",
   "pygments_lexer": "ipython3",
   "version": "3.6.3"
  }
 },
 "nbformat": 4,
 "nbformat_minor": 2
}
