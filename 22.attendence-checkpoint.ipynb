{
 "cells": [
  {
   "cell_type": "code",
   "execution_count": 24,
   "metadata": {},
   "outputs": [
    {
     "name": "stdout",
     "output_type": "stream",
     "text": [
      "Enter Number of classes held : 200\n",
      "Enter Number of classes attended : 200\n",
      "\n",
      "Your Attendence : 100% \n",
      "\n",
      "Yah! You can able to write the exam\n"
     ]
    }
   ],
   "source": [
    "total = int(input(\"Enter Number of classes held : \"))\n",
    "you = int(input(\"Enter Number of classes attended : \"))\n",
    "cal = (you*100)/total\n",
    "print(\"\\nYour Attendence : %d\" %cal + \"% \\n\")\n",
    "if(total<you):\n",
    "    print(\"Owh! Get Out\")\n",
    "elif(cal>=75):\n",
    "    print(\"Yah! You can able to write the exam\")\n",
    "else:\n",
    "    print(\"You can't able to write the exam!\")"
   ]
  },
  {
   "cell_type": "code",
   "execution_count": null,
   "metadata": {
    "collapsed": true
   },
   "outputs": [],
   "source": []
  }
 ],
 "metadata": {
  "kernelspec": {
   "display_name": "Python 3",
   "language": "python",
   "name": "python3"
  },
  "language_info": {
   "codemirror_mode": {
    "name": "ipython",
    "version": 3
   },
   "file_extension": ".py",
   "mimetype": "text/x-python",
   "name": "python",
   "nbconvert_exporter": "python",
   "pygments_lexer": "ipython3",
   "version": "3.6.3"
  }
 },
 "nbformat": 4,
 "nbformat_minor": 2
}
