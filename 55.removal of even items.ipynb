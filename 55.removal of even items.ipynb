{
 "cells": [
  {
   "cell_type": "code",
   "execution_count": 2,
   "metadata": {},
   "outputs": [
    {
     "name": "stdout",
     "output_type": "stream",
     "text": [
      "list is [6, 7, 5, 44, 33, 198, 64]\n",
      "The new list after removal of even items [7, 5, 33, 64]\n"
     ]
    }
   ],
   "source": [
    "#removal of even items\n",
    "l=[6,7,5,44,33,198,64]\n",
    "print(\"list is\",l)\n",
    "for i in l:\n",
    "    if(i%2==0):\n",
    "        l.remove(i)\n",
    "print(\"The new list after removal of even items\",l)"
   ]
  },
  {
   "cell_type": "code",
   "execution_count": null,
   "metadata": {
    "collapsed": true
   },
   "outputs": [],
   "source": []
  }
 ],
 "metadata": {
  "kernelspec": {
   "display_name": "Python 3",
   "language": "python",
   "name": "python3"
  },
  "language_info": {
   "codemirror_mode": {
    "name": "ipython",
    "version": 3
   },
   "file_extension": ".py",
   "mimetype": "text/x-python",
   "name": "python",
   "nbconvert_exporter": "python",
   "pygments_lexer": "ipython3",
   "version": "3.6.3"
  }
 },
 "nbformat": 4,
 "nbformat_minor": 2
}
