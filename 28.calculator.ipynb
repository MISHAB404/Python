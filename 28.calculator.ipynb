{
 "cells": [
  {
   "cell_type": "code",
   "execution_count": null,
   "metadata": {},
   "outputs": [],
   "source": [
    "n1 = int(input(\"Enter a number : \"))\n",
    "n2 = int(input(\"Enter a number : \"))\n",
    "print(\"\\n 1.Add \\n 2.Sub \\n 3.Mul \\n 4.Div \\n\")\n",
    "cal = input(\"Enter operation : \")\n",
    "a = '1'\n",
    "b = '2'\n",
    "c = '3'\n",
    "d = '4'\n",
    "if(cal==a):\n",
    "    print(\"\\n Ans is : \",n1+n2)\n",
    "elif(cal==b):\n",
    "    print(\"\\n Ans is : \",n1-n2)\n",
    "elif(cal==c):\n",
    "    print(\"\\n Ans is : \",n1*n2)\n",
    "elif(cal==d):\n",
    "    print(\"\\n Ans is : \",n1/n2)\n",
    "elif(cal!=a and cal!=b and cal!=c and cal!=d):\n",
    "    print(\"\\nyou entered wrong\")\n",
    "         "
   ]
  },
  {
   "cell_type": "code",
   "execution_count": null,
   "metadata": {
    "collapsed": true
   },
   "outputs": [],
   "source": []
  }
 ],
 "metadata": {
  "kernelspec": {
   "display_name": "Python 3",
   "language": "python",
   "name": "python3"
  },
  "language_info": {
   "codemirror_mode": {
    "name": "ipython",
    "version": 3
   },
   "file_extension": ".py",
   "mimetype": "text/x-python",
   "name": "python",
   "nbconvert_exporter": "python",
   "pygments_lexer": "ipython3",
   "version": "3.6.3"
  }
 },
 "nbformat": 4,
 "nbformat_minor": 2
}
