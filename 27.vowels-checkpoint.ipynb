{
 "cells": [
  {
   "cell_type": "code",
   "execution_count": 5,
   "metadata": {},
   "outputs": [
    {
     "name": "stdout",
     "output_type": "stream",
     "text": [
      "Enter the letters : b\n",
      "b - is not vowel\n"
     ]
    }
   ],
   "source": [
    "a=input(\"Enter the letters : \")\n",
    "if(a=='A' or a=='a' or a=='E' or a=='e' or a=='I' or a=='i' or a=='O' or a=='o' or a=='U' or a=='u'):\n",
    "    print(\"%s - is vowel\" %a)\n",
    "else:\n",
    "    print(\"%s - is not vowel\" %a)"
   ]
  },
  {
   "cell_type": "code",
   "execution_count": null,
   "metadata": {
    "collapsed": true
   },
   "outputs": [],
   "source": []
  }
 ],
 "metadata": {
  "kernelspec": {
   "display_name": "Python 3",
   "language": "python",
   "name": "python3"
  },
  "language_info": {
   "codemirror_mode": {
    "name": "ipython",
    "version": 3
   },
   "file_extension": ".py",
   "mimetype": "text/x-python",
   "name": "python",
   "nbconvert_exporter": "python",
   "pygments_lexer": "ipython3",
   "version": "3.6.3"
  }
 },
 "nbformat": 4,
 "nbformat_minor": 2
}
