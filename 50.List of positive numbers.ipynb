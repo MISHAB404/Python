{
 "cells": [
  {
   "cell_type": "code",
   "execution_count": 1,
   "metadata": {},
   "outputs": [
    {
     "name": "stdout",
     "output_type": "stream",
     "text": [
      "Enter numbers with comma-seperated:1,22,32,12,14,5,7\n",
      "Positive integers of the list are: [1, 22, 32, 12, 14, 5, 7]\n",
      "Square of numbers in list [1, 484, 1024, 144, 196, 25, 49]\n",
      "Enter a word:mishab\n",
      "vowels in mishab are ['i', 'a']\n",
      "Ordinal values of ['m', 'i', 's', 'h', 'a', 'b'] are: [109, 105, 115, 104, 97, 98]\n"
     ]
    }
   ],
   "source": [
    "#List of positive numbers from\n",
    "num=input(\"Enter numbers with comma-seperated:\").split(\",\")\n",
    "new=map(int,num)\n",
    "new1=[x for x in new if x>0]\n",
    "print(\"Positive integers of the list are:\",new1)\n",
    "\n",
    "#square of n numbers\n",
    "new2=map(int,num)\n",
    "sqlist=[x**2 for x in new2]\n",
    "print(\"Square of numbers in list\",sqlist)\n",
    "\n",
    "#list of vowels\n",
    "vw=input(\"Enter a word:\")\n",
    "vw1=[x for x in vw]\n",
    "vowel=['a','e','i','o','u','A','E','I','O','U']\n",
    "vw2=[x for x in vw1 if x in vowel]\n",
    "print('vowels in',vw,'are',vw2)\n",
    "\n",
    "#ordinal value\n",
    "ordinal=[ord(x) for x in vw]\n",
    "print(\"Ordinal values of\",vw1,'are:',ordinal)"
   ]
  },
  {
   "cell_type": "code",
   "execution_count": null,
   "metadata": {
    "collapsed": true
   },
   "outputs": [],
   "source": []
  }
 ],
 "metadata": {
  "kernelspec": {
   "display_name": "Python 3",
   "language": "python",
   "name": "python3"
  },
  "language_info": {
   "codemirror_mode": {
    "name": "ipython",
    "version": 3
   },
   "file_extension": ".py",
   "mimetype": "text/x-python",
   "name": "python",
   "nbconvert_exporter": "python",
   "pygments_lexer": "ipython3",
   "version": "3.6.3"
  }
 },
 "nbformat": 4,
 "nbformat_minor": 2
}
