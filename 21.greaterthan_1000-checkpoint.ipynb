{
 "cells": [
  {
   "cell_type": "code",
   "execution_count": 7,
   "metadata": {},
   "outputs": [
    {
     "name": "stdout",
     "output_type": "stream",
     "text": [
      "Enter 1st product's amount : 30\n",
      "Enter 2nd product's amount : 30\n",
      "This product have less amount\n"
     ]
    }
   ],
   "source": [
    "a = int(input(\"Enter 1st product's amount : \"))\n",
    "b = int(input(\"Enter 2nd product's amount : \"))\n",
    "c = a*b\n",
    "if(c>1000):\n",
    "    print(\"\\n The Product have higher amount %d\" %(a+b))\n",
    "else:\n",
    "    print(\"\\n This product have less amount\")"
   ]
  },
  {
   "cell_type": "code",
   "execution_count": null,
   "metadata": {
    "collapsed": true
   },
   "outputs": [],
   "source": []
  },
  {
   "cell_type": "code",
   "execution_count": null,
   "metadata": {
    "collapsed": true
   },
   "outputs": [],
   "source": []
  }
 ],
 "metadata": {
  "kernelspec": {
   "display_name": "Python 3",
   "language": "python",
   "name": "python3"
  },
  "language_info": {
   "codemirror_mode": {
    "name": "ipython",
    "version": 3
   },
   "file_extension": ".py",
   "mimetype": "text/x-python",
   "name": "python",
   "nbconvert_exporter": "python",
   "pygments_lexer": "ipython3",
   "version": "3.6.3"
  }
 },
 "nbformat": 4,
 "nbformat_minor": 2
}
