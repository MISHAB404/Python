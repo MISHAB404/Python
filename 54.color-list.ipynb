{
 "cells": [
  {
   "cell_type": "code",
   "execution_count": 14,
   "metadata": {},
   "outputs": [
    {
     "name": "stdout",
     "output_type": "stream",
     "text": [
      "----Enter First List\n",
      "enter a color : hi\n",
      "enter a color : html\n",
      "enter a color : rrr\n",
      "----Enter Second List\n",
      "enter a color : ewq\n",
      "enter a color : rrr\n",
      "Difference of color list 1 and color list 2 is : \n",
      "{'html', 'hi'}\n"
     ]
    }
   ],
   "source": [
    "#print out all colors from color-list1 not contained in color-list2\n",
    "print(\"----Enter First List\")\n",
    "a = input(\"enter a color : \")\n",
    "aa = input(\"enter a color : \")\n",
    "aaa = input(\"enter a color : \")\n",
    "\n",
    "print(\"----Enter Second List\")\n",
    "b = input(\"enter a color : \")\n",
    "bb = input(\"enter a color : \")\n",
    "\n",
    "colorl1 = set([a,aa,aaa])\n",
    "colorl2 = set([b,bb])\n",
    "print(\"Difference of color list 1 and color list 2 is : \")\n",
    "print(colorl1.difference(colorl2))"
   ]
  },
  {
   "cell_type": "code",
   "execution_count": null,
   "metadata": {
    "collapsed": true
   },
   "outputs": [],
   "source": []
  }
 ],
 "metadata": {
  "kernelspec": {
   "display_name": "Python 3",
   "language": "python",
   "name": "python3"
  },
  "language_info": {
   "codemirror_mode": {
    "name": "ipython",
    "version": 3
   },
   "file_extension": ".py",
   "mimetype": "text/x-python",
   "name": "python",
   "nbconvert_exporter": "python",
   "pygments_lexer": "ipython3",
   "version": "3.6.3"
  }
 },
 "nbformat": 4,
 "nbformat_minor": 2
}
