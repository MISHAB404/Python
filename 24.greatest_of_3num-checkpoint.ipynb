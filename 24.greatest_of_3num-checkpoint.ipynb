{
 "cells": [
  {
   "cell_type": "code",
   "execution_count": 1,
   "metadata": {},
   "outputs": [
    {
     "name": "stdout",
     "output_type": "stream",
     "text": [
      "Enter 1st Number : 2\n",
      "Enter 2st Number : 3\n",
      "Enter 3st Number : 4\n",
      "4 is greater\n"
     ]
    }
   ],
   "source": [
    "a = int(input(\"Enter 1st Number : \"))\n",
    "b = int(input(\"Enter 2st Number : \"))\n",
    "c = int(input(\"Enter 3st Number : \"))\n",
    "if(a>b and a>c):\n",
    "    print(\"%d is greater\" %a)\n",
    "elif(b>a and b>c):\n",
    "    print(\"%d is greater\" %b)\n",
    "elif(c>a and c>b):\n",
    "    print(\"%d is greater\" %c)\n"
   ]
  },
  {
   "cell_type": "code",
   "execution_count": null,
   "metadata": {
    "collapsed": true
   },
   "outputs": [],
   "source": []
  },
  {
   "cell_type": "code",
   "execution_count": null,
   "metadata": {
    "collapsed": true
   },
   "outputs": [],
   "source": []
  }
 ],
 "metadata": {
  "kernelspec": {
   "display_name": "Python 3",
   "language": "python",
   "name": "python3"
  },
  "language_info": {
   "codemirror_mode": {
    "name": "ipython",
    "version": 3
   },
   "file_extension": ".py",
   "mimetype": "text/x-python",
   "name": "python",
   "nbconvert_exporter": "python",
   "pygments_lexer": "ipython3",
   "version": "3.6.3"
  }
 },
 "nbformat": 4,
 "nbformat_minor": 2
}
