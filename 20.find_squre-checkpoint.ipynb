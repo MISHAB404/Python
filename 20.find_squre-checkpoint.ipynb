{
 "cells": [
  {
   "cell_type": "code",
   "execution_count": 2,
   "metadata": {},
   "outputs": [
    {
     "name": "stdout",
     "output_type": "stream",
     "text": [
      "Enter the length : 12\n",
      "Enter the breadth : 12\n",
      "This is a square!\n"
     ]
    }
   ],
   "source": [
    "a = int(input(\"Enter the length : \"))\n",
    "b = int(input(\"Enter the breadth : \"))\n",
    "if(a==b):\n",
    "    print(\"This is a square!\")\n",
    "else:\n",
    "    print(\"This is not a square!\")\n"
   ]
  },
  {
   "cell_type": "code",
   "execution_count": null,
   "metadata": {
    "collapsed": true
   },
   "outputs": [],
   "source": []
  }
 ],
 "metadata": {
  "kernelspec": {
   "display_name": "Python 3",
   "language": "python",
   "name": "python3"
  },
  "language_info": {
   "codemirror_mode": {
    "name": "ipython",
    "version": 3
   },
   "file_extension": ".py",
   "mimetype": "text/x-python",
   "name": "python",
   "nbconvert_exporter": "python",
   "pygments_lexer": "ipython3",
   "version": "3.6.3"
  }
 },
 "nbformat": 4,
 "nbformat_minor": 2
}
