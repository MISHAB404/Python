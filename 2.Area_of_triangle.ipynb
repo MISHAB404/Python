{
 "cells": [
  {
   "cell_type": "code",
   "execution_count": 1,
   "metadata": {},
   "outputs": [
    {
     "name": "stdout",
     "output_type": "stream",
     "text": [
      "enter breadth : 12\n",
      "enter height : 22\n",
      "Area of Right Angle Triangle is :\n",
      "132.0\n"
     ]
    }
   ],
   "source": [
    "b = float(input(\"enter breadth : \")) \n",
    "h = float(input(\"enter height : \"))\n",
    "area = ( b * h) / 2  \n",
    "print(\"Area of Right Angle Triangle is :\");  \n",
    "print(area);"
   ]
  },
  {
   "cell_type": "code",
   "execution_count": null,
   "metadata": {
    "collapsed": true
   },
   "outputs": [],
   "source": []
  },
  {
   "cell_type": "code",
   "execution_count": null,
   "metadata": {
    "collapsed": true
   },
   "outputs": [],
   "source": []
  }
 ],
 "metadata": {
  "kernelspec": {
   "display_name": "Python 3",
   "language": "python",
   "name": "python3"
  },
  "language_info": {
   "codemirror_mode": {
    "name": "ipython",
    "version": 3
   },
   "file_extension": ".py",
   "mimetype": "text/x-python",
   "name": "python",
   "nbconvert_exporter": "python",
   "pygments_lexer": "ipython3",
   "version": "3.6.3"
  }
 },
 "nbformat": 4,
 "nbformat_minor": 2
}
